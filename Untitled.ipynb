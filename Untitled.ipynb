{
 "cells": [
  {
   "cell_type": "code",
   "execution_count": 1,
   "metadata": {},
   "outputs": [],
   "source": [
    "import time\n",
    "\n",
    "import numpy as np\n",
    "\n",
    "from skopt.space import Real, Integer\n",
    "from skopt.utils import use_named_args\n",
    "from skopt import gp_minimize, Optimizer\n",
    "\n",
    "from sklearn.datasets import load_boston, load_iris, load_breast_cancer\n",
    "from sklearn.model_selection import cross_val_score\n",
    "\n",
    "import concurrent.futures\n",
    "\n",
    "# Classifiers\n",
    "from sklearn.neighbors import KNeighborsRegressor\n",
    "from sklearn.ensemble import GradientBoostingRegressor, GradientBoostingClassifier"
   ]
  },
  {
   "cell_type": "code",
   "execution_count": 2,
   "metadata": {},
   "outputs": [],
   "source": [
    "def hyper_parameter_tuning(model, space, train_data, train_label,\n",
    "                           obj,\n",
    "                           training_vars=None,\n",
    "                           valid_data=None,\n",
    "                           valid_label=None,\n",
    "                           train_weight=None,\n",
    "                           valid_weight=None,\n",
    "                           early_stopping_rounds=1000,\n",
    "                           num_boost_round = 50000,\n",
    "                           ncalls = 25,\n",
    "                           n_rand_starts = 5,\n",
    "                           rf = False):\n",
    "\n",
    "#     train = lgb.Dataset(np.array([train_data[var] for var in training_vars]).T,\n",
    "#                     label = train_label,\n",
    "#                     weight= train_weight,\n",
    "#                     feature_name=training_vars)#,\n",
    "#                     #init_sore = 0)\n",
    "#     valid = train.create_valid(np.array([valid_data[var] for var in training_vars]).T,\n",
    "#                    label= valid_label, weight = valid_weight)#, init_score = 0)\n",
    "\n",
    "    @use_named_args(space)\n",
    "    def objective(**params):\n",
    "        results = {}\n",
    "\n",
    "        params['n_jobs'] = -1 #cpu_n_jobs\n",
    "        params['first_metric_only'] = True\n",
    "        \n",
    "        if callable(obj):\n",
    "            fobj = obj\n",
    "        else:\n",
    "            params['objective'] = obj\n",
    "            fobj = None\n",
    "        \n",
    "        params['metric'] = 'rmse'\n",
    "        \n",
    "        if(rf):\n",
    "            params['boosting_type'] = 'rf'\n",
    "        else:\n",
    "            params['boosting_type'] = 'gbdt'\n",
    "        lgb.train(params = params, train_set = train, num_boost_round = num_boost_round,\n",
    "                 valid_sets=[valid], valid_names=['valid'], evals_result = results, fobj = fobj,\n",
    "                 verbose_eval=50, early_stopping_rounds = early_stopping_rounds)\n",
    "#         print('________________',results)\n",
    "        best_result = min(results['valid'][[*results['valid']][0]])\n",
    "        \n",
    "        return best_result\n",
    "    results = gp_minimize(objective, space, n_calls=ncalls, n_random_starts = n_rand_starts, random_state=0, verbose = True) #callback=[checkpoint_saver],\n",
    "    print(f'Best score: {results.fun}')\n",
    "    print(f'Best Parameters: {results.x}')\n",
    "\n",
    "    return results"
   ]
  },
  {
   "cell_type": "code",
   "execution_count": 3,
   "metadata": {},
   "outputs": [],
   "source": [
    "def objetive(model, X, y):\n",
    "    return np.mean(cross_val_score(model, X, y, cv = 5))\n",
    "\n",
    "def gridsearch(param):\n",
    "    model, order, param = param\n",
    "    param = dict(zip(order, param))\n",
    "    model.set_params(**param)\n",
    "    score = objetive(model, X, y)\n",
    "    return score\n",
    "\n",
    "def hyper_parameter_tuning(model, space, order, X, y, ncalls = 10, mtype = 'res'):\n",
    "\n",
    "    mtypes = ['res', 'cls']\n",
    "    if mtype not in mtypes:\n",
    "        raise ValueError(\"Invalid model type. Expected one of: %s\" % mtypes)\n",
    "\n",
    "    start = time.time()\n",
    "    opt = Optimizer(space)\n",
    "    params = []\n",
    "    for i in range(ncalls):\n",
    "        params.append(opt.ask())\n",
    "    args = ((model, order, b) for b in params)\n",
    "    with concurrent.futures.ProcessPoolExecutor() as executor:\n",
    "        result = executor.map(gridsearch, args)\n",
    "        results = []\n",
    "        parameter = []\n",
    "        for r, param in zip(result, params):\n",
    "            results.append(r)\n",
    "            parameter.append(param)\n",
    "    if mtype == 'res':\n",
    "        index = np.argmin(np.abs(results))\n",
    "    else:\n",
    "        index = np.argmax(np.abs(results))\n",
    "    parameter = dict(zip(order, parameter[index]))\n",
    "    print(f'Minimum score: {results[index]}')\n",
    "    print(f'Parameters: {parameter}')\n",
    "    print(f'Time it took: {time.time()-start}s')\n",
    "    return parameter"
   ]
  },
  {
   "cell_type": "code",
   "execution_count": 4,
   "metadata": {},
   "outputs": [],
   "source": [
    "boston = load_boston()\n",
    "breast_cancer = load_breast_cancer()\n",
    "# X, y = boston.data, boston.target\n",
    "X, y = breast_cancer.data, breast_cancer.target"
   ]
  },
  {
   "cell_type": "code",
   "execution_count": 5,
   "metadata": {},
   "outputs": [
    {
     "name": "stdout",
     "output_type": "stream",
     "text": [
      "Minimum score: 0.9648967551622418\n",
      "Parameters: {'max_depth': 15, 'learning_rate': 0.05129630847950463, 'max_features': 12, 'n_estimators': 40}\n",
      "Time it took: 26.17779278755188s\n"
     ]
    }
   ],
   "source": [
    "# Classifiers\n",
    "reg_gpdt = GradientBoostingRegressor(loss = 'lad')\n",
    "reg_knn = KNeighborsRegressor()\n",
    "reg_cls_gpdt = GradientBoostingClassifier()\n",
    "\n",
    "# spaces\n",
    "space_gpdt = [Integer(1, 20, name='max_depth'),\n",
    "          Real(10**-3, 10**-1, \"log-uniform\", name='learning_rate'),\n",
    "          Integer(2, X.shape[1], name='max_features'),\n",
    "          Integer(3, 50, name='n_estimators')]\n",
    "\n",
    "space_knn = [Integer(3, 400, name='n_neighbors')]\n",
    "\n",
    "\n",
    "# paramers\n",
    "order_gpdt = ['max_depth', 'learning_rate', 'max_features', 'n_estimators']\n",
    "\n",
    "order_knn = ['n_neighbors']\n",
    "\n",
    "params = hyper_parameter_tuning(model=reg_cls_gpdt, space=space_gpdt, order = order_gpdt, X=X, y=y, ncalls = 100, mtype = 'cls')"
   ]
  },
  {
   "cell_type": "code",
   "execution_count": 72,
   "metadata": {},
   "outputs": [
    {
     "name": "stdout",
     "output_type": "stream",
     "text": [
      "Time it took: 14.987464427947998s\n"
     ]
    }
   ],
   "source": [
    "start = time.time()\n",
    "score = []\n",
    "params = []\n",
    "start = time.time()\n",
    "for i in range(20):\n",
    "    param = opt.ask()\n",
    "    param = dict(zip(order, param))\n",
    "    reg.set_params(**param)\n",
    "    score.append(objetive(reg, X, y))\n",
    "    params.append(param)\n",
    "print(f'Time it took: {time.time()-start}s')"
   ]
  },
  {
   "cell_type": "code",
   "execution_count": 74,
   "metadata": {},
   "outputs": [
    {
     "data": {
      "text/plain": [
       "0"
      ]
     },
     "execution_count": 74,
     "metadata": {},
     "output_type": "execute_result"
    }
   ],
   "source": [
    "GradientBoostingClassifier()."
   ]
  },
  {
   "cell_type": "code",
   "execution_count": 75,
   "metadata": {},
   "outputs": [
    {
     "data": {
      "text/plain": [
       "0"
      ]
     },
     "execution_count": 75,
     "metadata": {},
     "output_type": "execute_result"
    }
   ],
   "source": [
    "GradientBoostingRegressor().verbose"
   ]
  },
  {
   "cell_type": "code",
   "execution_count": null,
   "metadata": {},
   "outputs": [],
   "source": []
  }
 ],
 "metadata": {
  "kernelspec": {
   "display_name": "Python 3",
   "language": "python",
   "name": "python3"
  },
  "language_info": {
   "codemirror_mode": {
    "name": "ipython",
    "version": 3
   },
   "file_extension": ".py",
   "mimetype": "text/x-python",
   "name": "python",
   "nbconvert_exporter": "python",
   "pygments_lexer": "ipython3",
   "version": "3.7.7"
  }
 },
 "nbformat": 4,
 "nbformat_minor": 4
}
