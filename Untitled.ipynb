{
 "cells": [
  {
   "cell_type": "code",
   "execution_count": 28,
   "metadata": {},
   "outputs": [],
   "source": [
    "import numpy as np\n",
    "\n",
    "from skopt.space import Real, Integer\n",
    "from skopt.utils import use_named_args\n",
    "from skopt import gp_minimize, Optimizer\n",
    "\n",
    "from sklearn.datasets import load_boston\n",
    "from sklearn.ensemble import GradientBoostingRegressor\n",
    "from sklearn.model_selection import cross_val_score"
   ]
  },
  {
   "cell_type": "code",
   "execution_count": 205,
   "metadata": {},
   "outputs": [],
   "source": [
    "def hyper_parameter_tuning(model, space, train_data, train_label,\n",
    "                           obj,\n",
    "                           training_vars=None,\n",
    "                           valid_data=None,\n",
    "                           valid_label=None,\n",
    "                           train_weight=None,\n",
    "                           valid_weight=None,\n",
    "                           early_stopping_rounds=1000,\n",
    "                           num_boost_round = 50000,\n",
    "                           ncalls = 25,\n",
    "                           n_rand_starts = 5,\n",
    "                           rf = False):\n",
    "\n",
    "#     train = lgb.Dataset(np.array([train_data[var] for var in training_vars]).T,\n",
    "#                     label = train_label,\n",
    "#                     weight= train_weight,\n",
    "#                     feature_name=training_vars)#,\n",
    "#                     #init_sore = 0)\n",
    "#     valid = train.create_valid(np.array([valid_data[var] for var in training_vars]).T,\n",
    "#                    label= valid_label, weight = valid_weight)#, init_score = 0)\n",
    "\n",
    "    @use_named_args(space)\n",
    "    def objective(**params):\n",
    "        results = {}\n",
    "\n",
    "        params['n_jobs'] = -1 #cpu_n_jobs\n",
    "        params['first_metric_only'] = True\n",
    "        \n",
    "        if callable(obj):\n",
    "            fobj = obj\n",
    "        else:\n",
    "            params['objective'] = obj\n",
    "            fobj = None\n",
    "        \n",
    "        params['metric'] = 'rmse'\n",
    "        \n",
    "        if(rf):\n",
    "            params['boosting_type'] = 'rf'\n",
    "        else:\n",
    "            params['boosting_type'] = 'gbdt'\n",
    "        lgb.train(params = params, train_set = train, num_boost_round = num_boost_round,\n",
    "                 valid_sets=[valid], valid_names=['valid'], evals_result = results, fobj = fobj,\n",
    "                 verbose_eval=50, early_stopping_rounds = early_stopping_rounds)\n",
    "#         print('________________',results)\n",
    "        best_result = min(results['valid'][[*results['valid']][0]])\n",
    "        \n",
    "        return best_result\n",
    "    results = gp_minimize(objective, space, n_calls=ncalls, n_random_starts = n_rand_starts, random_state=0, verbose = True) #callback=[checkpoint_saver],\n",
    "    print(f'Best score: {results.fun}')\n",
    "    print(f'Best Parameters: {results.x}')\n",
    "\n",
    "    return results"
   ]
  },
  {
   "cell_type": "code",
   "execution_count": 216,
   "metadata": {},
   "outputs": [],
   "source": [
    "def objetive(model, X, y):\n",
    "    \n",
    "    return np.mean(cross_val_score(model, X, y, cv = 5))"
   ]
  },
  {
   "cell_type": "code",
   "execution_count": 217,
   "metadata": {},
   "outputs": [],
   "source": [
    "boston = load_boston()\n",
    "X, y = boston.data, boston.target"
   ]
  },
  {
   "cell_type": "code",
   "execution_count": 218,
   "metadata": {},
   "outputs": [
    {
     "data": {
      "text/plain": [
       "13"
      ]
     },
     "execution_count": 218,
     "metadata": {},
     "output_type": "execute_result"
    }
   ],
   "source": [
    "X.shape[1]"
   ]
  },
  {
   "cell_type": "code",
   "execution_count": 219,
   "metadata": {},
   "outputs": [],
   "source": [
    "reg = GradientBoostingRegressor()"
   ]
  },
  {
   "cell_type": "code",
   "execution_count": 220,
   "metadata": {},
   "outputs": [],
   "source": [
    "space = [Integer(1, 20, name='max_depth'),\n",
    "          Real(10**-3, 10**-1, \"log-uniform\", name='learning_rate'),\n",
    "          Integer(2, X.shape[1], name='max_features'),\n",
    "          Integer(3, 50, name='n_estimators')]\n",
    "order = ['max_depth', 'learning_rate', 'max_features', 'n_estimators']\n",
    "opt = Optimizer(space, reg)\n"
   ]
  },
  {
   "cell_type": "code",
   "execution_count": 221,
   "metadata": {},
   "outputs": [
    {
     "data": {
      "text/plain": [
       "GradientBoostingRegressor(alpha=0.9, ccp_alpha=0.0, criterion='friedman_mse',\n",
       "                          init=None, learning_rate=0.1, loss='ls', max_depth=3,\n",
       "                          max_features=None, max_leaf_nodes=None,\n",
       "                          min_impurity_decrease=0.0, min_impurity_split=None,\n",
       "                          min_samples_leaf=1, min_samples_split=2,\n",
       "                          min_weight_fraction_leaf=0.0, n_estimators=100,\n",
       "                          n_iter_no_change=None, presort='deprecated',\n",
       "                          random_state=None, subsample=1.0, tol=0.0001,\n",
       "                          validation_fraction=0.1, verbose=0, warm_start=False)"
      ]
     },
     "execution_count": 221,
     "metadata": {},
     "output_type": "execute_result"
    }
   ],
   "source": [
    "reg"
   ]
  },
  {
   "cell_type": "code",
   "execution_count": 224,
   "metadata": {},
   "outputs": [],
   "source": [
    "score = []\n",
    "params = []\n",
    "for i in range(10):\n",
    "    param = opt.ask()\n",
    "    param = dict(zip(order, param))\n",
    "    reg.set_params(**param)\n",
    "    score.append(objetive(reg, X, y))\n",
    "    params.append(param)"
   ]
  },
  {
   "cell_type": "code",
   "execution_count": 226,
   "metadata": {},
   "outputs": [
    {
     "data": {
      "text/plain": [
       "[0.2865351251746823,\n",
       " -0.2952905058495331,\n",
       " -0.5590393642259391,\n",
       " -0.30167762601405684,\n",
       " 0.3978541663442163,\n",
       " -0.3737869929704413,\n",
       " -0.5699018928534031,\n",
       " 0.3492274230046408,\n",
       " -0.40817558569533663,\n",
       " -0.2213012322848053]"
      ]
     },
     "execution_count": 226,
     "metadata": {},
     "output_type": "execute_result"
    }
   ],
   "source": [
    "score"
   ]
  },
  {
   "cell_type": "code",
   "execution_count": 227,
   "metadata": {},
   "outputs": [
    {
     "data": {
      "text/plain": [
       "[{'max_depth': 14,\n",
       "  'learning_rate': 0.04739207120482394,\n",
       "  'max_features': 10,\n",
       "  'n_estimators': 16},\n",
       " {'max_depth': 7,\n",
       "  'learning_rate': 0.023297409651241836,\n",
       "  'max_features': 6,\n",
       "  'n_estimators': 9},\n",
       " {'max_depth': 17,\n",
       "  'learning_rate': 0.001803797747651532,\n",
       "  'max_features': 13,\n",
       "  'n_estimators': 37},\n",
       " {'max_depth': 1,\n",
       "  'learning_rate': 0.017440413798120565,\n",
       "  'max_features': 6,\n",
       "  'n_estimators': 25},\n",
       " {'max_depth': 13,\n",
       "  'learning_rate': 0.020957816722777974,\n",
       "  'max_features': 6,\n",
       "  'n_estimators': 48},\n",
       " {'max_depth': 19,\n",
       "  'learning_rate': 0.009449337925782963,\n",
       "  'max_features': 7,\n",
       "  'n_estimators': 17},\n",
       " {'max_depth': 18,\n",
       "  'learning_rate': 0.001761485283366378,\n",
       "  'max_features': 5,\n",
       "  'n_estimators': 38},\n",
       " {'max_depth': 13,\n",
       "  'learning_rate': 0.02714536047894435,\n",
       "  'max_features': 2,\n",
       "  'n_estimators': 49},\n",
       " {'max_depth': 7,\n",
       "  'learning_rate': 0.006005244278482685,\n",
       "  'max_features': 13,\n",
       "  'n_estimators': 23},\n",
       " {'max_depth': 8,\n",
       "  'learning_rate': 0.009638950784788037,\n",
       "  'max_features': 10,\n",
       "  'n_estimators': 25}]"
      ]
     },
     "execution_count": 227,
     "metadata": {},
     "output_type": "execute_result"
    }
   ],
   "source": [
    "params"
   ]
  },
  {
   "cell_type": "raw",
   "metadata": {},
   "source": [
    "n_estimators"
   ]
  },
  {
   "cell_type": "code",
   "execution_count": null,
   "metadata": {},
   "outputs": [],
   "source": []
  }
 ],
 "metadata": {
  "kernelspec": {
   "display_name": "Python 3",
   "language": "python",
   "name": "python3"
  },
  "language_info": {
   "codemirror_mode": {
    "name": "ipython",
    "version": 3
   },
   "file_extension": ".py",
   "mimetype": "text/x-python",
   "name": "python",
   "nbconvert_exporter": "python",
   "pygments_lexer": "ipython3",
   "version": "3.7.7"
  }
 },
 "nbformat": 4,
 "nbformat_minor": 4
}
